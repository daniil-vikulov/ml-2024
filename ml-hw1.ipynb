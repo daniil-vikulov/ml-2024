{
 "cells": [
  {
   "metadata": {
    "ExecuteTime": {
     "end_time": "2024-11-26T20:47:06.707673Z",
     "start_time": "2024-11-26T20:47:06.704374Z"
    }
   },
   "cell_type": "code",
   "source": [
    "import time\n",
    "\n",
    "import numpy as np\n",
    "import pandas as pd\n",
    "from sklearn.datasets import make_regression\n",
    "import matplotlib.pyplot as plt\n",
    "from sklearn.linear_model import LinearRegression\n",
    "from sklearn.metrics import r2_score\n",
    "\n",
    "def forward_stage_wise(x, y, max_iters):\n",
    "    selected_features = []\n",
    "    residual = y.copy()\n",
    "    answer_score = float('-inf')\n",
    "\n",
    "    for _ in range(max_iters):\n",
    "        print(f\"Iteration {_}\")\n",
    "        best_feature = None\n",
    "        best_score = float('-inf')\n",
    "\n",
    "        # Iterating through unselected column and finding best one (with maximal impact on final precision)\n",
    "        for feature in x.columns.difference(selected_features):\n",
    "            model = LinearRegression()\n",
    "            model.fit(x[[feature]], residual)\n",
    "            predicted_residual = model.predict(x[[feature]])\n",
    "            score = r2_score(residual, predicted_residual)\n",
    "\n",
    "            if score > best_score:\n",
    "                best_score = score\n",
    "                best_feature = feature\n",
    "\n",
    "        answer_score = max(answer_score, best_score)\n",
    "\n",
    "        selected_features.append(best_feature)\n",
    "\n",
    "        model = LinearRegression()\n",
    "        model.fit(x[selected_features], y)\n",
    "        residual = y - model.predict(x[selected_features])\n",
    "\n",
    "    return selected_features, answer_score"
   ],
   "id": "a0c2639a1c5ad900",
   "outputs": [],
   "execution_count": 165
  },
  {
   "metadata": {
    "ExecuteTime": {
     "end_time": "2024-11-26T20:47:06.723539Z",
     "start_time": "2024-11-26T20:47:06.720624Z"
    }
   },
   "cell_type": "code",
   "source": [
    "from sklearn.metrics import r2_score\n",
    "\n",
    "def forward_stage_wise_qr(x, y, max_iters):\n",
    "    selected_features = []\n",
    "    residual = y.copy()\n",
    "    answer_score = float('-inf')\n",
    "\n",
    "    for _ in range(max_iters):\n",
    "        print(f\"Iteration {_}\")\n",
    "        best_feature = None\n",
    "        best_score = float('-inf')\n",
    "\n",
    "        # Iterating through unselected column and finding best one (with maximal impact on final precision)\n",
    "        for feature in x.columns.difference(selected_features):\n",
    "            # Candidate feature matrix\n",
    "            candidate = x[[feature]].values\n",
    "\n",
    "            q, r = np.linalg.qr(candidate, mode='reduced')\n",
    "            beta = np.linalg.solve(r, q.T @ residual)  # Solve R*beta = Q.T*res\n",
    "            predicted_residual = candidate @ beta\n",
    "\n",
    "            score = r2_score(residual, predicted_residual)\n",
    "\n",
    "            if score > best_score:\n",
    "                best_score = score\n",
    "                best_feature = feature\n",
    "\n",
    "        answer_score = max(answer_score, best_score)\n",
    "\n",
    "        selected_features.append(best_feature)\n",
    "\n",
    "        # Updating residual\n",
    "        candidate = x[selected_features].values\n",
    "        q, r = np.linalg.qr(candidate, mode='reduced')\n",
    "        beta = np.linalg.solve(r, q.T @ y)\n",
    "        residual = y - candidate @ beta\n",
    "\n",
    "    return selected_features, answer_score\n"
   ],
   "id": "e63529d0c6debcd7",
   "outputs": [],
   "execution_count": 166
  },
  {
   "metadata": {
    "ExecuteTime": {
     "end_time": "2024-11-26T20:47:06.767488Z",
     "start_time": "2024-11-26T20:47:06.763491Z"
    }
   },
   "cell_type": "code",
   "source": [
    "def get_xy(\n",
    "        n_samples,\n",
    "        n_features,\n",
    "        n_target_features,\n",
    "        norm_params,\n",
    "        exp_params,\n",
    "        scaling_limits_norm,\n",
    "        scaling_limits_exp,\n",
    "        noise_params_norm,\n",
    "        noise_params_exp,\n",
    "        target_function,\n",
    "        target_noise\n",
    "):\n",
    "    np.random.seed(42)\n",
    "\n",
    "    # Generate base distributions\n",
    "    origin_norm = np.random.normal(**norm_params, size=n_samples)\n",
    "    origin_exp = np.random.exponential(**exp_params, size=n_samples)\n",
    "\n",
    "    dataset = np.zeros((n_samples, n_features))\n",
    "\n",
    "    for i in range(n_features // 2):\n",
    "        norm_new = origin_norm * np.random.uniform(*scaling_limits_norm) + \\\n",
    "                   np.random.normal(**noise_params_norm, size=n_samples)\n",
    "        exp_new = origin_exp * np.random.uniform(*scaling_limits_exp) + \\\n",
    "                  np.random.normal(**noise_params_exp, size=n_samples)\n",
    "\n",
    "        dataset[:, 2 * i] = norm_new\n",
    "        dataset[:, 2 * i + 1] = exp_new\n",
    "\n",
    "    column_names = [f\"f_{i + 1}\" for i in range(n_features)]\n",
    "    data = pd.DataFrame(dataset, columns=column_names)\n",
    "\n",
    "    # Generate the target vector\n",
    "    exclude = data.iloc[:, :n_target_features]\n",
    "    m_x = data.iloc[:, n_target_features:]\n",
    "\n",
    "    exclude_array = exclude.to_numpy()\n",
    "    weights = np.random.uniform(-1, 1, size=exclude_array.shape[1])\n",
    "\n",
    "    # Apply the user-defined target function\n",
    "    target = target_function(exclude_array, weights)\n",
    "\n",
    "    # Add noise to the target\n",
    "    m_y = target + np.random.normal(**target_noise, size=exclude_array.shape[0])\n",
    "\n",
    "    return m_x, m_y"
   ],
   "id": "d09472f4c0941e46",
   "outputs": [],
   "execution_count": 167
  },
  {
   "metadata": {
    "ExecuteTime": {
     "end_time": "2024-11-26T20:47:15.202017Z",
     "start_time": "2024-11-26T20:47:06.805195Z"
    }
   },
   "cell_type": "code",
   "source": [
    "print(\"Running FSW...\")\n",
    "t1 = time.time()\n",
    "\n",
    "n_samples = 10000\n",
    "n_features = 1000\n",
    "n_target_features = 100\n",
    "norm_params = {\"loc\": 0, \"scale\": 1}\n",
    "exp_params = {\"scale\": 1}\n",
    "scaling_limits_norm = (0.1, 3.0)\n",
    "scaling_limits_exp = (0.1, 4.0)\n",
    "noise_params_norm = {\"loc\": 0, \"scale\": 0.2}\n",
    "noise_params_exp = {\"loc\": 0, \"scale\": 0.4}\n",
    "target_function = lambda x, w: np.dot(x, w)  # Linear function\n",
    "target_noise = {\"loc\": 0, \"scale\": 0.1}\n",
    "\n",
    "X, Y = get_xy(\n",
    "    n_samples=n_samples,\n",
    "    n_features=n_features,\n",
    "    n_target_features=n_target_features,\n",
    "    norm_params=norm_params,\n",
    "    exp_params=exp_params,\n",
    "    scaling_limits_norm=scaling_limits_norm,\n",
    "    scaling_limits_exp=scaling_limits_exp,\n",
    "    noise_params_norm=noise_params_norm,\n",
    "    noise_params_exp=noise_params_exp,\n",
    "    target_function=target_function,\n",
    "    target_noise=target_noise\n",
    ")\n",
    "\n",
    "f1, s1 = forward_stage_wise(X, Y, 5)\n",
    "print(f'score: {s1}, time: {time.time() - t1} seconds')\n",
    "\n",
    "print(\"Running FSW-QR...\")\n",
    "t2 = time.time()\n",
    "f2, s2 = forward_stage_wise_qr(X, Y, 5)\n",
    "print(f'Score: {s2}, time: {time.time() - t2} seconds')"
   ],
   "id": "ff25af870169d1be",
   "outputs": [
    {
     "name": "stdout",
     "output_type": "stream",
     "text": [
      "Running FSW...\n",
      "Iteration 0\n",
      "Iteration 1\n",
      "Iteration 2\n",
      "Iteration 3\n",
      "Iteration 4\n",
      "score: 0.8744215593293443, time: 6.456685781478882 seconds\n",
      "Running FSW-QR...\n",
      "Iteration 0\n",
      "Iteration 1\n",
      "Iteration 2\n",
      "Iteration 3\n",
      "Iteration 4\n",
      "Score: 0.8743508894535981, time: 1.9364838600158691 seconds\n"
     ]
    }
   ],
   "execution_count": 168
  },
  {
   "metadata": {},
   "cell_type": "markdown",
   "source": "As you can see, latter method (with QR decomposition) is significantly faster than standard-way regression while displaying the accuracy",
   "id": "dd4e639927b8b03a"
  },
  {
   "metadata": {},
   "cell_type": "markdown",
   "source": "### Adjusting dataset size",
   "id": "6f1c8d0b2b494aa8"
  },
  {
   "metadata": {
    "ExecuteTime": {
     "end_time": "2024-11-26T20:47:27.756544Z",
     "start_time": "2024-11-26T20:47:15.241556Z"
    }
   },
   "cell_type": "code",
   "source": [
    "# Examining function SCORE(DATASET_SIZE)\n",
    "\n",
    "n_samples_list = [5000, 10000, 20000]\n",
    "\n",
    "scores = []\n",
    "\n",
    "for n_samples in n_samples_list:\n",
    "    print(f\"Running FSW-QR for {n_samples}\")\n",
    "    m_x, m_y = get_xy(\n",
    "        n_samples=n_samples,\n",
    "        n_features=n_features,\n",
    "        n_target_features=n_target_features,\n",
    "        norm_params=norm_params,\n",
    "        exp_params=exp_params,\n",
    "        scaling_limits_norm=scaling_limits_norm,\n",
    "        scaling_limits_exp=scaling_limits_exp,\n",
    "        noise_params_norm=noise_params_norm,\n",
    "        noise_params_exp=noise_params_exp,\n",
    "        target_function=target_function,\n",
    "        target_noise=target_noise,\n",
    "    )\n",
    "    \n",
    "    f, s = forward_stage_wise(m_x, m_y, 3)\n",
    "    \n",
    "    scores.append(s)\n",
    "\n",
    "# Plotting\n",
    "plt.figure(figsize=(8, 6))\n",
    "plt.plot(n_samples_list, scores, marker='o')\n",
    "plt.title(\"Score (size)\")\n",
    "plt.xlabel(\"data size\")\n",
    "plt.ylabel(\"Score\")\n",
    "plt.grid(True)\n",
    "plt.show()"
   ],
   "id": "a5756faf0b262c5e",
   "outputs": [
    {
     "name": "stdout",
     "output_type": "stream",
     "text": [
      "Running FSW-QR for 5000\n",
      "Iteration 0\n",
      "Iteration 1\n",
      "Iteration 2\n",
      "Running FSW-QR for 10000\n",
      "Iteration 0\n",
      "Iteration 1\n",
      "Iteration 2\n",
      "Running FSW-QR for 20000\n",
      "Iteration 0\n",
      "Iteration 1\n",
      "Iteration 2\n"
     ]
    },
    {
     "data": {
      "text/plain": [
       "<Figure size 800x600 with 1 Axes>"
      ],
      "image/png": "[encoded data removed]"
     },
     "metadata": {},
     "output_type": "display_data"
    }
   ],
   "execution_count": 169
  }
 ],
 "metadata": {
  "kernelspec": {
   "display_name": "Python 3",
   "language": "python",
   "name": "python3"
  },
  "language_info": {
   "codemirror_mode": {
    "name": "ipython",
    "version": 2
   },
   "file_extension": ".py",
   "mimetype": "text/x-python",
   "name": "python",
   "nbconvert_exporter": "python",
   "pygments_lexer": "ipython2",
   "version": "2.7.6"
  }
 },
 "nbformat": 4,
 "nbformat_minor": 5
}
